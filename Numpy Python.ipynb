{
 "cells": [
  {
   "cell_type": "code",
   "execution_count": null,
   "metadata": {},
   "outputs": [],
   "source": [
    "import numpy as np"
   ]
  },
  {
   "cell_type": "code",
   "execution_count": null,
   "metadata": {},
   "outputs": [],
   "source": [
    "l1 = ([10,20,30,40])\n",
    "n1 = np.array(n1)\n",
    "print(type(l1))\n",
    "print(l1)\n",
    "print(type(n1))\n",
    "print(n1)"
   ]
  },
  {
   "cell_type": "code",
   "execution_count": null,
   "metadata": {},
   "outputs": [],
   "source": [
    "l2 = ([1,2,3,4],[5,6,7,8])\n",
    "n2 = np.array(l2)\n",
    "print(type(l2))\n",
    "print(l2)\n",
    "print(type(n2))\n",
    "print(n2)"
   ]
  },
  {
   "cell_type": "code",
   "execution_count": null,
   "metadata": {},
   "outputs": [],
   "source": [
    "#initializing with zero\n",
    "n3 = np.zeros((4,3))\n",
    "print(n3)\n",
    "n3 = np.zeros((4,3))+5\n",
    "print(n3)"
   ]
  },
  {
   "cell_type": "code",
   "execution_count": null,
   "metadata": {},
   "outputs": [],
   "source": [
    "np.ones((2,4))"
   ]
  },
  {
   "cell_type": "code",
   "execution_count": null,
   "metadata": {},
   "outputs": [],
   "source": [
    "#Identity Matrix\n",
    "np.eye(5)"
   ]
  },
  {
   "cell_type": "code",
   "execution_count": null,
   "metadata": {},
   "outputs": [],
   "source": [
    "np.diag(array([1,3,5,3,4,5]))"
   ]
  },
  {
   "cell_type": "code",
   "execution_count": null,
   "metadata": {},
   "outputs": [],
   "source": [
    "#initiazling with a specific number\n",
    "n4 = np.full((2,3),12)\n",
    "n4"
   ]
  },
  {
   "cell_type": "code",
   "execution_count": null,
   "metadata": {},
   "outputs": [],
   "source": [
    "#initiazlizing with range(starting,ebding)\n",
    "n5 = np.arange(10,20)\n",
    "n5"
   ]
  },
  {
   "cell_type": "code",
   "execution_count": null,
   "metadata": {},
   "outputs": [],
   "source": [
    "#inializing with range and incrementals(starting,ending,incremental)\n",
    "n6 = np.arange(50,500,10)\n",
    "n6"
   ]
  },
  {
   "cell_type": "code",
   "execution_count": null,
   "metadata": {},
   "outputs": [],
   "source": [
    "#initialzing with random numbers(starting,ending,numbers)\n",
    "n7 = np.random.randint(1,200,6)\n",
    "n7"
   ]
  },
  {
   "cell_type": "code",
   "execution_count": null,
   "metadata": {},
   "outputs": [],
   "source": [
    "#Eqidistance numbers(starting,ending,numbers with equal distance between them)\n",
    "np.linspace(30,100,5)"
   ]
  },
  {
   "cell_type": "code",
   "execution_count": null,
   "metadata": {},
   "outputs": [],
   "source": [
    "#cheking the shape and changing the shape of numpy array\n",
    "n8 = np.array([[1,2,3,4],[5,6,7,8]])\n",
    "print(n8)\n",
    "n8.shape = (4,2)\n",
    "print(n8)\n",
    "n8.shape = (8,1)\n",
    "print(n8)\n",
    "n8.reshape(4,2)\n",
    "nn = n8.reshape(2,2,2)\n",
    "print(nn)\n",
    "print(nn.shape)\n",
    "print(nn.dtype)\n",
    "print(nn.size)"
   ]
  },
  {
   "cell_type": "markdown",
   "metadata": {},
   "source": [
    "## Joining Arrays in Numpy"
   ]
  },
  {
   "cell_type": "code",
   "execution_count": null,
   "metadata": {},
   "outputs": [],
   "source": [
    "#Joining with VStack\n",
    "n9 = np.array([1,2,3,4])\n",
    "n10 = np.array([5,6,7,8])\n",
    "np.vstack((n9,n10))"
   ]
  },
  {
   "cell_type": "code",
   "execution_count": null,
   "metadata": {},
   "outputs": [],
   "source": [
    "#Joining with hstack\n",
    "n11 = np.array([1,2,3,4])\n",
    "n12 = np.array([5,6,7,8])\n",
    "np.hstack((n11,n12))"
   ]
  },
  {
   "cell_type": "code",
   "execution_count": null,
   "metadata": {},
   "outputs": [],
   "source": [
    "#Joining with column_stack\n",
    "n13 = np.array([1,2,3,4])\n",
    "n14 = np.array([5,6,7,8])\n",
    "np.column_stack((n13,n14))"
   ]
  },
  {
   "cell_type": "markdown",
   "metadata": {},
   "source": [
    "## Numpy Operations "
   ]
  },
  {
   "cell_type": "code",
   "execution_count": null,
   "metadata": {},
   "outputs": [],
   "source": [
    "#Operation of Intersection\n",
    "n15 = np.array([10,20,30,40,50,60])\n",
    "n16 = np.array([50,60,70,80,90])\n",
    "np.intersect1d(n15,n16)"
   ]
  },
  {
   "cell_type": "code",
   "execution_count": null,
   "metadata": {},
   "outputs": [],
   "source": [
    "#Operation of Difference\n",
    "n17 = np.array([10,20,30,40,50,60])\n",
    "n18 = np.array([50,60,70,80,90])\n",
    "np.setdiff1d(n17,n18)"
   ]
  },
  {
   "cell_type": "code",
   "execution_count": null,
   "metadata": {},
   "outputs": [],
   "source": [
    "np.setdiff1d(n18,n17)"
   ]
  },
  {
   "cell_type": "markdown",
   "metadata": {},
   "source": [
    "# # Mathematics Operations"
   ]
  },
  {
   "cell_type": "code",
   "execution_count": null,
   "metadata": {},
   "outputs": [],
   "source": [
    "#Addition of Numpy Arrays\n",
    "n19 = np.array([10,20])\n",
    "n20 = np.array([30,40])\n",
    "np.sum([n19,n20])"
   ]
  },
  {
   "cell_type": "code",
   "execution_count": null,
   "metadata": {},
   "outputs": [],
   "source": [
    "#Column Values Addition\n",
    "np.sum([n19,n20],axis = 0)"
   ]
  },
  {
   "cell_type": "code",
   "execution_count": null,
   "metadata": {},
   "outputs": [],
   "source": [
    "#Rows Values Addition\n",
    "np.sum([n19,n20],axis = 1)"
   ]
  },
  {
   "cell_type": "code",
   "execution_count": null,
   "metadata": {},
   "outputs": [],
   "source": [
    "#Basic Addition\n",
    "n21 = np.array([10,20,30,40])\n",
    "n22 = n21+1\n",
    "n22"
   ]
  },
  {
   "cell_type": "code",
   "execution_count": null,
   "metadata": {},
   "outputs": [],
   "source": [
    "#Basic Multiplication\n",
    "n23 = n21*5\n",
    "n23"
   ]
  },
  {
   "cell_type": "code",
   "execution_count": null,
   "metadata": {},
   "outputs": [],
   "source": [
    "#Basic Subtraction\n",
    "n24 = n21-7\n",
    "n24"
   ]
  },
  {
   "cell_type": "code",
   "execution_count": null,
   "metadata": {},
   "outputs": [],
   "source": [
    "#Basic Division\n",
    "n25 = n21/5\n",
    "n25"
   ]
  },
  {
   "cell_type": "code",
   "execution_count": null,
   "metadata": {},
   "outputs": [],
   "source": [
    "#Mean of Numpy Array\n",
    "n26 = np.array([10,20,30,40,50])\n",
    "np.mean(n26)"
   ]
  },
  {
   "cell_type": "code",
   "execution_count": null,
   "metadata": {},
   "outputs": [],
   "source": [
    "#Median of Numpy Array\n",
    "np.median(n26)"
   ]
  },
  {
   "cell_type": "code",
   "execution_count": null,
   "metadata": {},
   "outputs": [],
   "source": [
    "#Standard Deviation of Numpy Array\n",
    "np.std(n26)"
   ]
  },
  {
   "cell_type": "code",
   "execution_count": null,
   "metadata": {},
   "outputs": [],
   "source": [
    "#Numpy Save and Load\n",
    "#Saving\n",
    "n27 = np.array([10,20,30,40,50,60])\n",
    "np.save('myarray',n27)"
   ]
  },
  {
   "cell_type": "code",
   "execution_count": null,
   "metadata": {},
   "outputs": [],
   "source": [
    "#Loading\n",
    "n28 = np.load('myarray.npy')\n",
    "n28"
   ]
  },
  {
   "cell_type": "code",
   "execution_count": null,
   "metadata": {},
   "outputs": [],
   "source": []
  }
 ],
 "metadata": {
  "kernelspec": {
   "display_name": "Python 3",
   "language": "python",
   "name": "python3"
  },
  "language_info": {
   "codemirror_mode": {
    "name": "ipython",
    "version": 3
   },
   "file_extension": ".py",
   "mimetype": "text/x-python",
   "name": "python",
   "nbconvert_exporter": "python",
   "pygments_lexer": "ipython3",
   "version": "3.8.3"
  }
 },
 "nbformat": 4,
 "nbformat_minor": 4
}
